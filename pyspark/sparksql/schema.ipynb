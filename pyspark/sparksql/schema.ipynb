{
 "cells": [
  {
   "cell_type": "code",
   "execution_count": 14,
   "id": "7c23cf15",
   "metadata": {},
   "outputs": [],
   "source": [
    "import pyspark\n",
    "from pyspark.sql import SparkSession"
   ]
  },
  {
   "cell_type": "code",
   "execution_count": 15,
   "id": "a8dd6b6c",
   "metadata": {},
   "outputs": [],
   "source": [
    "spark = SparkSession.builder \\\n",
    "    .appName(\"example\") \\\n",
    "    .master(\"local[*]\") \\\n",
    "    .getOrCreate()"
   ]
  },
  {
   "cell_type": "code",
   "execution_count": 9,
   "id": "6c92a253",
   "metadata": {},
   "outputs": [
    {
     "name": "stdout",
     "output_type": "stream",
     "text": [
      "root\n",
      " |-- VendorID: integer (nullable = true)\n",
      " |-- tpep_pickup_datetime: timestamp_ntz (nullable = true)\n",
      " |-- tpep_dropoff_datetime: timestamp_ntz (nullable = true)\n",
      " |-- passenger_count: long (nullable = true)\n",
      " |-- trip_distance: double (nullable = true)\n",
      " |-- RatecodeID: long (nullable = true)\n",
      " |-- store_and_fwd_flag: string (nullable = true)\n",
      " |-- PULocationID: integer (nullable = true)\n",
      " |-- DOLocationID: integer (nullable = true)\n",
      " |-- payment_type: long (nullable = true)\n",
      " |-- fare_amount: double (nullable = true)\n",
      " |-- extra: double (nullable = true)\n",
      " |-- mta_tax: double (nullable = true)\n",
      " |-- tip_amount: double (nullable = true)\n",
      " |-- tolls_amount: double (nullable = true)\n",
      " |-- improvement_surcharge: double (nullable = true)\n",
      " |-- total_amount: double (nullable = true)\n",
      " |-- congestion_surcharge: double (nullable = true)\n",
      " |-- Airport_fee: double (nullable = true)\n",
      "\n"
     ]
    }
   ],
   "source": [
    "# read gz parquet file of all month in directory: data\\raw\\yellow\\2024\n",
    "df = spark.read.option(\"compression\", \"gzip\").parquet(\"data/raw/yellow/2024/01\")\n",
    "df.printSchema()\n",
    "  "
   ]
  },
  {
   "cell_type": "code",
   "execution_count": 10,
   "id": "0d983f40",
   "metadata": {},
   "outputs": [
    {
     "data": {
      "text/plain": [
       "VendorID                          int32\n",
       "tpep_pickup_datetime     datetime64[us]\n",
       "tpep_dropoff_datetime    datetime64[us]\n",
       "passenger_count                 float64\n",
       "trip_distance                   float64\n",
       "RatecodeID                      float64\n",
       "store_and_fwd_flag               object\n",
       "PULocationID                      int32\n",
       "DOLocationID                      int32\n",
       "payment_type                      int64\n",
       "fare_amount                     float64\n",
       "extra                           float64\n",
       "mta_tax                         float64\n",
       "tip_amount                      float64\n",
       "tolls_amount                    float64\n",
       "improvement_surcharge           float64\n",
       "total_amount                    float64\n",
       "congestion_surcharge            float64\n",
       "Airport_fee                     float64\n",
       "dtype: object"
      ]
     },
     "execution_count": 10,
     "metadata": {},
     "output_type": "execute_result"
    }
   ],
   "source": [
    "import pandas as pd\n",
    "# read parquet file chunk at 1000 rows\n",
    "pd_dataframe = pd.read_parquet(\"data/raw/yellow/2024/01/yellow_tripdata_2024-01.parquet\", engine='pyarrow')\n",
    "pd_dataframe = pd_dataframe.head(1000)  # limit to 1000 rows\n",
    "pd_dataframe.dtypes"
   ]
  },
  {
   "cell_type": "code",
   "execution_count": 11,
   "id": "9a4ca4a7",
   "metadata": {},
   "outputs": [
    {
     "data": {
      "text/plain": [
       "StructType([StructField('VendorID', LongType(), True), StructField('tpep_pickup_datetime', TimestampType(), True), StructField('tpep_dropoff_datetime', TimestampType(), True), StructField('passenger_count', DoubleType(), True), StructField('trip_distance', DoubleType(), True), StructField('RatecodeID', DoubleType(), True), StructField('store_and_fwd_flag', StringType(), True), StructField('PULocationID', LongType(), True), StructField('DOLocationID', LongType(), True), StructField('payment_type', LongType(), True), StructField('fare_amount', DoubleType(), True), StructField('extra', DoubleType(), True), StructField('mta_tax', DoubleType(), True), StructField('tip_amount', DoubleType(), True), StructField('tolls_amount', DoubleType(), True), StructField('improvement_surcharge', DoubleType(), True), StructField('total_amount', DoubleType(), True), StructField('congestion_surcharge', DoubleType(), True), StructField('Airport_fee', DoubleType(), True)])"
      ]
     },
     "execution_count": 11,
     "metadata": {},
     "output_type": "execute_result"
    }
   ],
   "source": [
    "# create Spark DataFrame and show schema\n",
    "spark.createDataFrame(pd_dataframe).schema"
   ]
  },
  {
   "cell_type": "code",
   "execution_count": 13,
   "id": "bf504b3a",
   "metadata": {},
   "outputs": [
    {
     "name": "stdout",
     "output_type": "stream",
     "text": [
      "Processing data for 2024-01...\n",
      "Processing data for 2024-02...\n",
      "Processing data for 2024-03...\n",
      "Processing data for 2024-04...\n",
      "Processing data for 2024-05...\n",
      "Processing data for 2024-06...\n",
      "Processing data for 2024-07...\n",
      "Processing data for 2024-08...\n",
      "Processing data for 2024-09...\n",
      "Processing data for 2024-10...\n",
      "Processing data for 2024-11...\n",
      "Processing data for 2024-12...\n"
     ]
    }
   ],
   "source": [
    "from pyspark.sql import types\n",
    "yellow_schema =  types.StructType([\n",
    "types.StructField('VendorID', types.IntegerType(), True), \n",
    "types.StructField('tpep_pickup_datetime', types.TimestampNTZType(), True), \n",
    "types.StructField('tpep_dropoff_datetime', types.TimestampNTZType(), True), \n",
    "types.StructField('passenger_count', types.LongType(), True), \n",
    "types.StructField('trip_distance', types.DoubleType(), True), \n",
    "types.StructField('RatecodeID', types.LongType(), True), \n",
    "types.StructField('store_and_fwd_flag', types.StringType(), True), \n",
    "types.StructField('PULocationID', types.IntegerType(), True), \n",
    "types.StructField('DOLocationID', types.IntegerType(), True), \n",
    "types.StructField('payment_type', types.LongType(), True), \n",
    "types.StructField('fare_amount', types.DoubleType(), True), \n",
    "types.StructField('extra', types.DoubleType(), True), \n",
    "types.StructField('mta_tax', types.DoubleType(), True), \n",
    "types.StructField('tip_amount', types.DoubleType(), True), \n",
    "types.StructField('tolls_amount', types.DoubleType(), True), \n",
    "types.StructField('improvement_surcharge', types.DoubleType(), True), \n",
    "types.StructField('total_amount', types.DoubleType(), True), \n",
    "types.StructField('congestion_surcharge', types.DoubleType(), True), \n",
    "types.StructField('Airport_fee', types.DoubleType(), True)])\n",
    "\n",
    "for month in range(1, 13):\n",
    "    year = 2024\n",
    "    month_str = f\"{month:02d}\"\n",
    "\n",
    "    print (f\"Processing data for {year}-{month_str}...\")\n",
    "    input_path = f\"data/raw/yellow/{year}/{month_str}/\"\n",
    "    output_path = f\"data/processed/yellow/{year}/{month_str}/\"\n",
    "    \n",
    "    yellow_df = spark.read \\\n",
    "    .option(\"header\", \"true\") \\\n",
    "    .schema(yellow_schema) \\\n",
    "    .parquet(input_path)\n",
    "\n",
    "    yellow_df.repartition(4).write.mode(\"overwrite\").parquet(output_path)"
   ]
  },
  {
   "cell_type": "code",
   "execution_count": 16,
   "id": "757085e3",
   "metadata": {},
   "outputs": [
    {
     "name": "stdout",
     "output_type": "stream",
     "text": [
      "root\n",
      " |-- VendorID: integer (nullable = true)\n",
      " |-- lpep_pickup_datetime: timestamp_ntz (nullable = true)\n",
      " |-- lpep_dropoff_datetime: timestamp_ntz (nullable = true)\n",
      " |-- store_and_fwd_flag: string (nullable = true)\n",
      " |-- RatecodeID: long (nullable = true)\n",
      " |-- PULocationID: integer (nullable = true)\n",
      " |-- DOLocationID: integer (nullable = true)\n",
      " |-- passenger_count: long (nullable = true)\n",
      " |-- trip_distance: double (nullable = true)\n",
      " |-- fare_amount: double (nullable = true)\n",
      " |-- extra: double (nullable = true)\n",
      " |-- mta_tax: double (nullable = true)\n",
      " |-- tip_amount: double (nullable = true)\n",
      " |-- tolls_amount: double (nullable = true)\n",
      " |-- ehail_fee: double (nullable = true)\n",
      " |-- improvement_surcharge: double (nullable = true)\n",
      " |-- total_amount: double (nullable = true)\n",
      " |-- payment_type: long (nullable = true)\n",
      " |-- trip_type: long (nullable = true)\n",
      " |-- congestion_surcharge: double (nullable = true)\n",
      "\n"
     ]
    }
   ],
   "source": [
    "df = spark.read.option(\"compression\", \"gzip\").parquet(\"data/raw/green/2024/01\")\n",
    "df.printSchema()"
   ]
  },
  {
   "cell_type": "code",
   "execution_count": null,
   "id": "c253d9d6",
   "metadata": {},
   "outputs": [
    {
     "ename": "AttributeError",
     "evalue": "module 'pyspark.sql.types' has no attribute 'Timestamp_ntzType'",
     "output_type": "error",
     "traceback": [
      "\u001b[31m---------------------------------------------------------------------------\u001b[39m",
      "\u001b[31mAttributeError\u001b[39m                            Traceback (most recent call last)",
      "\u001b[36mCell\u001b[39m\u001b[36m \u001b[39m\u001b[32mIn[18]\u001b[39m\u001b[32m, line 3\u001b[39m\n\u001b[32m      1\u001b[39m yellow_schema =   types.StructType([\n\u001b[32m      2\u001b[39m types.StructField(\u001b[33m'\u001b[39m\u001b[33mVendorID\u001b[39m\u001b[33m'\u001b[39m, types.IntegerType(), \u001b[38;5;28;01mTrue\u001b[39;00m), \n\u001b[32m----> \u001b[39m\u001b[32m3\u001b[39m types.StructField(\u001b[33m'\u001b[39m\u001b[33mlpep_pickup_datetime\u001b[39m\u001b[33m'\u001b[39m, \u001b[43mtypes\u001b[49m\u001b[43m.\u001b[49m\u001b[43mTimestamp_ntzType\u001b[49m(), \u001b[38;5;28;01mTrue\u001b[39;00m), \n\u001b[32m      4\u001b[39m types.StructField(\u001b[33m'\u001b[39m\u001b[33mlpep_dropoff_datetime\u001b[39m\u001b[33m'\u001b[39m, types.Timestamp_ntzType(), \u001b[38;5;28;01mTrue\u001b[39;00m), \n\u001b[32m      5\u001b[39m types.StructField(\u001b[33m'\u001b[39m\u001b[33mstore_and_fwd_flag\u001b[39m\u001b[33m'\u001b[39m, types.StringType(), \u001b[38;5;28;01mTrue\u001b[39;00m), \n\u001b[32m      6\u001b[39m types.StructField(\u001b[33m'\u001b[39m\u001b[33mRatecodeID\u001b[39m\u001b[33m'\u001b[39m, types.LongType(), \u001b[38;5;28;01mTrue\u001b[39;00m), \n\u001b[32m      7\u001b[39m types.StructField(\u001b[33m'\u001b[39m\u001b[33mPULocationID\u001b[39m\u001b[33m'\u001b[39m, types.IntegerType(), \u001b[38;5;28;01mTrue\u001b[39;00m), \n\u001b[32m      8\u001b[39m types.StructField(\u001b[33m'\u001b[39m\u001b[33mDOLocationID\u001b[39m\u001b[33m'\u001b[39m, types.IntegerType(), \u001b[38;5;28;01mTrue\u001b[39;00m), \n\u001b[32m      9\u001b[39m types.StructField(\u001b[33m'\u001b[39m\u001b[33mpassenger_count\u001b[39m\u001b[33m'\u001b[39m, types.LongType(), \u001b[38;5;28;01mTrue\u001b[39;00m), \n\u001b[32m     10\u001b[39m types.StructField(\u001b[33m'\u001b[39m\u001b[33mtrip_distance\u001b[39m\u001b[33m'\u001b[39m, types.DoubleType(), \u001b[38;5;28;01mTrue\u001b[39;00m), \n\u001b[32m     11\u001b[39m types.StructField(\u001b[33m'\u001b[39m\u001b[33mfare_amount\u001b[39m\u001b[33m'\u001b[39m, types.DoubleType(), \u001b[38;5;28;01mTrue\u001b[39;00m), \n\u001b[32m     12\u001b[39m types.StructField(\u001b[33m'\u001b[39m\u001b[33mextra\u001b[39m\u001b[33m'\u001b[39m, types.DoubleType(), \u001b[38;5;28;01mTrue\u001b[39;00m), \n\u001b[32m     13\u001b[39m types.StructField(\u001b[33m'\u001b[39m\u001b[33mmta_tax\u001b[39m\u001b[33m'\u001b[39m, types.DoubleType(), \u001b[38;5;28;01mTrue\u001b[39;00m), \n\u001b[32m     14\u001b[39m types.StructField(\u001b[33m'\u001b[39m\u001b[33mtip_amount\u001b[39m\u001b[33m'\u001b[39m, types.DoubleType(), \u001b[38;5;28;01mTrue\u001b[39;00m), \n\u001b[32m     15\u001b[39m types.StructField(\u001b[33m'\u001b[39m\u001b[33mtolls_amount\u001b[39m\u001b[33m'\u001b[39m, types.DoubleType(), \u001b[38;5;28;01mTrue\u001b[39;00m), \n\u001b[32m     16\u001b[39m types.StructField(\u001b[33m'\u001b[39m\u001b[33mehail_fee\u001b[39m\u001b[33m'\u001b[39m, types.DoubleType(), \u001b[38;5;28;01mTrue\u001b[39;00m), \n\u001b[32m     17\u001b[39m types.StructField(\u001b[33m'\u001b[39m\u001b[33mimprovement_surcharge\u001b[39m\u001b[33m'\u001b[39m, types.DoubleType(), \u001b[38;5;28;01mTrue\u001b[39;00m), \n\u001b[32m     18\u001b[39m types.StructField(\u001b[33m'\u001b[39m\u001b[33mtotal_amount\u001b[39m\u001b[33m'\u001b[39m, types.DoubleType(), \u001b[38;5;28;01mTrue\u001b[39;00m), \n\u001b[32m     19\u001b[39m types.StructField(\u001b[33m'\u001b[39m\u001b[33mpayment_type\u001b[39m\u001b[33m'\u001b[39m, types.LongType(), \u001b[38;5;28;01mTrue\u001b[39;00m), \n\u001b[32m     20\u001b[39m types.StructField(\u001b[33m'\u001b[39m\u001b[33mtrip_type\u001b[39m\u001b[33m'\u001b[39m, types.LongType(), \u001b[38;5;28;01mTrue\u001b[39;00m),\n\u001b[32m     21\u001b[39m types.StructField(\u001b[33m'\u001b[39m\u001b[33mcongestion_surcharge\u001b[39m\u001b[33m'\u001b[39m, types.DoubleType(), \u001b[38;5;28;01mTrue\u001b[39;00m)])\n\u001b[32m     23\u001b[39m \u001b[38;5;28;01mfor\u001b[39;00m month \u001b[38;5;129;01min\u001b[39;00m \u001b[38;5;28mrange\u001b[39m(\u001b[32m1\u001b[39m, \u001b[32m13\u001b[39m):\n\u001b[32m     24\u001b[39m     year = \u001b[32m2024\u001b[39m\n",
      "\u001b[31mAttributeError\u001b[39m: module 'pyspark.sql.types' has no attribute 'Timestamp_ntzType'"
     ]
    }
   ],
   "source": [
    "yellow_schema =   types.StructType([\n",
    "types.StructField('VendorID', types.IntegerType(), True), \n",
    "types.StructField('lpep_pickup_datetime', types.TimestampNTZType(), True), \n",
    "types.StructField('lpep_dropoff_datetime', types.TimestampNTZType(), True), \n",
    "types.StructField('store_and_fwd_flag', types.StringType(), True), \n",
    "types.StructField('RatecodeID', types.LongType(), True), \n",
    "types.StructField('PULocationID', types.IntegerType(), True), \n",
    "types.StructField('DOLocationID', types.IntegerType(), True), \n",
    "types.StructField('passenger_count', types.LongType(), True), \n",
    "types.StructField('trip_distance', types.DoubleType(), True), \n",
    "types.StructField('fare_amount', types.DoubleType(), True), \n",
    "types.StructField('extra', types.DoubleType(), True), \n",
    "types.StructField('mta_tax', types.DoubleType(), True), \n",
    "types.StructField('tip_amount', types.DoubleType(), True), \n",
    "types.StructField('tolls_amount', types.DoubleType(), True), \n",
    "types.StructField('ehail_fee', types.DoubleType(), True), \n",
    "types.StructField('improvement_surcharge', types.DoubleType(), True), \n",
    "types.StructField('total_amount', types.DoubleType(), True), \n",
    "types.StructField('payment_type', types.LongType(), True), \n",
    "types.StructField('trip_type', types.LongType(), True),\n",
    "types.StructField('congestion_surcharge', types.DoubleType(), True)])\n",
    "\n",
    "for month in range(1, 13):\n",
    "    year = 2024\n",
    "    month_str = f\"{month:02d}\"\n",
    "\n",
    "    print (f\"Processing data for {year}-{month_str}...\")\n",
    "    input_path = f\"data/raw/green/{year}/{month_str}/\"\n",
    "    output_path = f\"data/processed/green/{year}/{month_str}/\"\n",
    "    \n",
    "    yellow_df = spark.read \\\n",
    "    .option(\"header\", \"true\") \\\n",
    "    .schema(yellow_schema) \\\n",
    "    .parquet(input_path).mode(\"overwrite\")\n",
    "\n",
    "    yellow_df.repartition(4).write.mode(\"overwrite\").parquet(output_path)"
   ]
  }
 ],
 "metadata": {
  "kernelspec": {
   "display_name": "Python 3",
   "language": "python",
   "name": "python3"
  },
  "language_info": {
   "codemirror_mode": {
    "name": "ipython",
    "version": 3
   },
   "file_extension": ".py",
   "mimetype": "text/x-python",
   "name": "python",
   "nbconvert_exporter": "python",
   "pygments_lexer": "ipython3",
   "version": "3.13.2"
  }
 },
 "nbformat": 4,
 "nbformat_minor": 5
}
