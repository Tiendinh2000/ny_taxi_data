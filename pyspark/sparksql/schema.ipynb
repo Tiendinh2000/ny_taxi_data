{
 "cells": [
  {
   "cell_type": "code",
   "execution_count": null,
   "id": "7c23cf15",
   "metadata": {},
   "outputs": [],
   "source": [
    "import pyspark\n",
    "from pyspark.sql import SparkSession"
   ]
  },
  {
   "cell_type": "code",
   "execution_count": null,
   "id": "a8dd6b6c",
   "metadata": {},
   "outputs": [],
   "source": [
    "spark = SparkSession.builder \\\n",
    "    .appName(\"example\") \\\n",
    "    .master(\"local[*]\") \\\n",
    "    .getOrCreate()"
   ]
  },
  {
   "cell_type": "code",
   "execution_count": 13,
   "id": "6c92a253",
   "metadata": {},
   "outputs": [
    {
     "name": "stdout",
     "output_type": "stream",
     "text": [
      "root\n",
      " |-- VendorID: integer (nullable = true)\n",
      " |-- tpep_pickup_datetime: timestamp_ntz (nullable = true)\n",
      " |-- tpep_dropoff_datetime: timestamp_ntz (nullable = true)\n",
      " |-- passenger_count: long (nullable = true)\n",
      " |-- trip_distance: double (nullable = true)\n",
      " |-- RatecodeID: long (nullable = true)\n",
      " |-- store_and_fwd_flag: string (nullable = true)\n",
      " |-- PULocationID: integer (nullable = true)\n",
      " |-- DOLocationID: integer (nullable = true)\n",
      " |-- payment_type: long (nullable = true)\n",
      " |-- fare_amount: double (nullable = true)\n",
      " |-- extra: double (nullable = true)\n",
      " |-- mta_tax: double (nullable = true)\n",
      " |-- tip_amount: double (nullable = true)\n",
      " |-- tolls_amount: double (nullable = true)\n",
      " |-- improvement_surcharge: double (nullable = true)\n",
      " |-- total_amount: double (nullable = true)\n",
      " |-- congestion_surcharge: double (nullable = true)\n",
      " |-- Airport_fee: double (nullable = true)\n",
      "\n"
     ]
    }
   ],
   "source": [
    "# read gz parquet file of all month in directory: data\\raw\\yellow\\2024\n",
    "df = spark.read.option(\"compression\", \"gzip\").parquet(\"data/raw/yellow/2024/01\")\n",
    "df.printSchema()\n"
   ]
  },
  {
   "cell_type": "code",
   "execution_count": 14,
   "id": "0d983f40",
   "metadata": {},
   "outputs": [
    {
     "data": {
      "text/plain": [
       "VendorID                          int32\n",
       "tpep_pickup_datetime     datetime64[us]\n",
       "tpep_dropoff_datetime    datetime64[us]\n",
       "passenger_count                 float64\n",
       "trip_distance                   float64\n",
       "RatecodeID                      float64\n",
       "store_and_fwd_flag               object\n",
       "PULocationID                      int32\n",
       "DOLocationID                      int32\n",
       "payment_type                      int64\n",
       "fare_amount                     float64\n",
       "extra                           float64\n",
       "mta_tax                         float64\n",
       "tip_amount                      float64\n",
       "tolls_amount                    float64\n",
       "improvement_surcharge           float64\n",
       "total_amount                    float64\n",
       "congestion_surcharge            float64\n",
       "Airport_fee                     float64\n",
       "dtype: object"
      ]
     },
     "execution_count": 14,
     "metadata": {},
     "output_type": "execute_result"
    }
   ],
   "source": [
    "import pandas as pd\n",
    "# read parquet file chunk at 1000 rows\n",
    "pd_dataframe = pd.read_parquet(\"data/raw/yellow/2024/01/yellow_tripdata_2024-01.parquet\", engine='pyarrow')\n",
    "pd_dataframe = pd_dataframe.head(1000)  # limit to 1000 rows\n",
    "pd_dataframe.dtypes"
   ]
  },
  {
   "cell_type": "code",
   "execution_count": null,
   "id": "9a4ca4a7",
   "metadata": {},
   "outputs": [],
   "source": [
    "# create Spark DataFrame and show schema\n",
    "spark.createDataFrame(pd_dataframe).schema"
   ]
  },
  {
   "cell_type": "code",
   "execution_count": null,
   "id": "bf504b3a",
   "metadata": {},
   "outputs": [],
   "source": [
    "from pyspark.sql import types\n",
    "schema = types.StructType([\n",
    "types.StructField('VendorID', types.LongType(), True), \n",
    "types.StructField('tpep_pickup_datetime', types.TimestampType(), True), \n",
    "types.StructField('tpep_dropoff_datetime', types.TimestampType(), True), \n",
    "types.StructField('passenger_count', types.DoubleType(), True), \n",
    "types.StructField('trip_distance', types.DoubleType(), True), \n",
    "types.StructField('RatecodeID', types.DoubleType(), True), \n",
    "types.StructField('store_and_fwd_flag', types.StringType(), True), \n",
    "types.StructField('PULocationID', types.LongType(), True), \n",
    "types.StructField('DOLocationID', types.LongType(), True), \n",
    "types.StructField('payment_type', types.LongType(), True), \n",
    "types.StructField('fare_amount', types.DoubleType(), True), \n",
    "types.StructField('extra', types.DoubleType(), True), \n",
    "types.StructField('mta_tax', types.DoubleType(), True), \n",
    "types.StructField('tip_amount', types.DoubleType(), True), \n",
    "types.StructField('tolls_amount', types.DoubleType(), True), \n",
    "types.StructField('improvement_surcharge', types.DoubleType(), True), \n",
    "types.StructField('total_amount', types.DoubleType(), True), \n",
    "types.StructField('congestion_surcharge', types.DoubleType(), True), \n",
    "types.StructField('Airport_fee', types.DoubleType(), True)])\n",
    "\n",
    "\n",
    "yellow_schema = spark.read \\\n",
    "    .option(\"header\", \"true\") \\\n",
    "    .schema(schema) \\\n",
    "    .parquet(\"data/raw/yellow/2024/01/yellow_tripdata_2024-01.parquet\")"
   ]
  },
  {
   "cell_type": "code",
   "execution_count": null,
   "id": "b67386c7",
   "metadata": {},
   "outputs": [],
   "source": [
    "yellow_schema.printSchema()"
   ]
  }
 ],
 "metadata": {
  "kernelspec": {
   "display_name": "Python 3",
   "language": "python",
   "name": "python3"
  },
  "language_info": {
   "codemirror_mode": {
    "name": "ipython",
    "version": 3
   },
   "file_extension": ".py",
   "mimetype": "text/x-python",
   "name": "python",
   "nbconvert_exporter": "python",
   "pygments_lexer": "ipython3",
   "version": "3.13.2"
  }
 },
 "nbformat": 4,
 "nbformat_minor": 5
}
