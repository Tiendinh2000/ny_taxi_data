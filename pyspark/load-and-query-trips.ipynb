{
 "cells": [
  {
   "cell_type": "code",
   "execution_count": null,
   "id": "516a07c3-1ba4-4bbc-b6ea-e72ccbc6765a",
   "metadata": {},
   "outputs": [],
   "source": [
    "import pyspark\n",
    "from pyspark.sql import SparkSession\n",
    "from pyspark import SparkContext\n",
    "\n",
    "try:\n",
    "    SparkContext.getOrCreate().stop()\n",
    "except:\n",
    "    pass\n",
    "\n",
    "spark = SparkSession.builder \\\n",
    "    .master(\"local[*]\") \\\n",
    "    .appName(\"Test\") \\\n",
    "    .getOrCreate()\n",
    "\n",
    "print(spark.version)\n",
    "\n"
   ]
  },
  {
   "cell_type": "code",
   "execution_count": null,
   "id": "80cdd137-b046-4830-b160-b65635bea3cf",
   "metadata": {},
   "outputs": [],
   "source": [
    "# !curl -O https://d37ci6vzurychx.cloudfront.net/trip-data/fhvhv_tripdata_2025-01.parquet"
   ]
  },
  {
   "cell_type": "code",
   "execution_count": null,
   "id": "0b638ea6",
   "metadata": {},
   "outputs": [],
   "source": [
    "df = spark.read.parquet(\"fhvhv_tripdata_2025-01.parquet\")\n",
    "df.show(5, False)"
   ]
  },
  {
   "cell_type": "code",
   "execution_count": null,
   "id": "c039f3d9",
   "metadata": {},
   "outputs": [],
   "source": [
    "df.schema"
   ]
  },
  {
   "cell_type": "code",
   "execution_count": null,
   "id": "27b6d9ee",
   "metadata": {},
   "outputs": [],
   "source": [
    "partition_df = df.repartition(24)"
   ]
  },
  {
   "cell_type": "code",
   "execution_count": null,
   "id": "ea97e256",
   "metadata": {},
   "outputs": [],
   "source": [
    "# partition_df.write.parquet('tripdata/2025/01')"
   ]
  },
  {
   "cell_type": "code",
   "execution_count": null,
   "id": "a4ccadef",
   "metadata": {},
   "outputs": [],
   "source": [
    "partition_df.printSchema()"
   ]
  },
  {
   "cell_type": "code",
   "execution_count": null,
   "id": "2f50e771",
   "metadata": {},
   "outputs": [],
   "source": [
    "partition_df.select('PULocationID','DOLocationID','tips').filter(partition_df.tips > 0).show(5, False)"
   ]
  },
  {
   "cell_type": "code",
   "execution_count": null,
   "id": "8e737549",
   "metadata": {},
   "outputs": [],
   "source": [
    "from pyspark.sql import functions as F\n",
    "\n",
    "def total_income(driver_pay,tips):\n",
    "    if driver_pay is None:\n",
    "        driver_pay = 0\n",
    "    if tips is None:\n",
    "        tips = 0\n",
    "    return driver_pay + tips\n",
    "total_income_udf = F.udf(total_income)\n",
    "total_income_udf(partition_df.driver_pay, partition_df.tips) # 110"
   ]
  },
  {
   "cell_type": "code",
   "execution_count": null,
   "id": "416f8b5e",
   "metadata": {},
   "outputs": [],
   "source": [
    "partition_df \\\n",
    "    .withColumn('pickup_date', F.to_date(partition_df.pickup_datetime).cast(\"String\")) \\\n",
    "    .withColumn('dropoff_date', F.to_date(partition_df.dropoff_datetime).cast(\"String\")) \\\n",
    "    .withColumn('total_income', partition_df.driver_pay + partition_df.tips) \\\n",
    "    .select(\n",
    "        'PULocationID',\n",
    "        'DOLocationID',\n",
    "        'pickup_date',\n",
    "        'dropoff_date',\n",
    "        'tips',\n",
    "        'total_income'\n",
    "    ) \\\n",
    "    .show(5, False)\n"
   ]
  },
  {
   "cell_type": "code",
   "execution_count": null,
   "id": "f55a3eec",
   "metadata": {},
   "outputs": [],
   "source": []
  }
 ],
 "metadata": {
  "kernelspec": {
   "display_name": "Python 3",
   "language": "python",
   "name": "python3"
  },
  "language_info": {
   "codemirror_mode": {
    "name": "ipython",
    "version": 3
   },
   "file_extension": ".py",
   "mimetype": "text/x-python",
   "name": "python",
   "nbconvert_exporter": "python",
   "pygments_lexer": "ipython3",
   "version": "3.13.2"
  }
 },
 "nbformat": 4,
 "nbformat_minor": 5
}
